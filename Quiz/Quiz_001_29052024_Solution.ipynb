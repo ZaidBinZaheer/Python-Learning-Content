{
 "cells": [
  {
   "cell_type": "markdown",
   "metadata": {},
   "source": [
    "## Quiz #0101 <br>\n",
    "###### (Python - Basics)"
   ]
  },
  {
   "cell_type": "markdown",
   "metadata": {},
   "source": [
    "#### Answer the following questions by providing Python code:"
   ]
  },
  {
   "cell_type": "markdown",
   "metadata": {},
   "source": [
    "1).  In the class A, students' heights are:\n",
    "\n",
    "161.5 <br>\n",
    "165.9 <br>\n",
    "168.7 <br>\n",
    "163.1 <br>\n",
    "170.8 <br>\n",
    "167.2 <br>\n",
    "\n",
    "Calculate the mean height."
   ]
  },
  {
   "cell_type": "code",
   "execution_count": 16,
   "metadata": {},
   "outputs": [
    {
     "name": "stdout",
     "output_type": "stream",
     "text": [
      "Mean Height of Class A:  166.20000000000002\n"
     ]
    }
   ],
   "source": [
    "A=[161.5, 165.9, 168.7, 163.1, 170.8, 167.2]\n",
    "mean_height=sum(A)/len(A)\n",
    "print('Mean Height of Class A: ', mean_height)"
   ]
  },
  {
   "cell_type": "markdown",
   "metadata": {},
   "source": [
    "2).  In the class B, students' heights are:\n",
    "\n",
    "172.5 <br>\n",
    "162.9 <br>\n",
    "161.7 <br>\n",
    "160.1 <br>\n",
    "161.8 <br>\n",
    "169.2 <br>\n",
    "\n",
    "The class A and the class B are joined together to form the class AB. Calculate the mean height of class AB"
   ]
  },
  {
   "cell_type": "code",
   "execution_count": 18,
   "metadata": {},
   "outputs": [
    {
     "name": "stdout",
     "output_type": "stream",
     "text": [
      "Mean Height of Class AB:  165.45000000000002\n"
     ]
    }
   ],
   "source": [
    "B=[172.5, 162.9, 161.7, 160.1, 161.8, 169.2]\n",
    "AB=A+B\n",
    "mean_height=sum(AB)/len(AB)\n",
    "print('Mean Height of Class AB: ', mean_height)"
   ]
  },
  {
   "cell_type": "markdown",
   "metadata": {},
   "source": [
    "3). Sort the heights of the class AB."
   ]
  },
  {
   "cell_type": "code",
   "execution_count": 22,
   "metadata": {},
   "outputs": [
    {
     "name": "stdout",
     "output_type": "stream",
     "text": [
      "[160.1, 161.5, 161.7, 161.8, 162.9, 163.1, 165.9, 167.2, 168.7, 169.2, 170.8, 172.5]\n"
     ]
    }
   ],
   "source": [
    "AB.sort()\n",
    "print(AB)"
   ]
  },
  {
   "cell_type": "markdown",
   "metadata": {},
   "source": [
    "4). The class C is formed with students with the height larger than 160 and less than 170. Make a list containing the heights of the class C."
   ]
  },
  {
   "cell_type": "code",
   "execution_count": 23,
   "metadata": {},
   "outputs": [
    {
     "name": "stdout",
     "output_type": "stream",
     "text": [
      "Heights of Class C:  [160.1, 161.5, 161.7, 161.8, 162.9, 163.1, 165.9, 167.2, 168.7, 169.2]\n"
     ]
    }
   ],
   "source": [
    "C=[]\n",
    "for i in AB:\n",
    "    if i>160 and i<170:\n",
    "        C.append(i)\n",
    "\n",
    "print('Heights of Class C: ', C)"
   ]
  },
  {
   "cell_type": "markdown",
   "metadata": {},
   "source": [
    "#### String Manipulation Problem: Palindrom"
   ]
  },
  {
   "cell_type": "markdown",
   "metadata": {},
   "source": [
    "7). A Palindrome is a string that reads the same forward and backward.<br>\n",
    "Your task is to take string as input from the user and your code identifies that wheather this string is a palindrome or not\n"
   ]
  },
  {
   "cell_type": "code",
   "execution_count": 35,
   "metadata": {},
   "outputs": [
    {
     "name": "stdout",
     "output_type": "stream",
     "text": [
      "It is a Palindrome\n"
     ]
    }
   ],
   "source": [
    "s=input('Enter a String: ')\n",
    "first_half=s[:int(len(s)/2)]\n",
    "second_half=s[int(len(s)/2):]\n",
    "# print(first_half)\n",
    "# print(second_half)\n",
    "j=len(second_half)-1\n",
    "isPalindrome=False\n",
    "for i in range(len(first_half)):\n",
    "    if first_half[i]==second_half[j]:\n",
    "        isPalindrome=True\n",
    "    else:\n",
    "        isPalindrome=False\n",
    "    j-=1\n",
    "if isPalindrome:\n",
    "    print('It is a Palindrome')\n",
    "else:\n",
    "    print('It is NOT a Palindrome')\n",
    "\n",
    "# Another Solution\n",
    "# b=list(s)\n",
    "# b.reverse()\n",
    "# print(b)\n",
    "# c=list(s)\n",
    "# print(c)\n",
    "# if c==b:\n",
    "#     print('Palindrome')\n",
    "# else:\n",
    "#     print('Not a Palindrome')"
   ]
  },
  {
   "cell_type": "markdown",
   "metadata": {},
   "source": [
    "#### Case Scenario"
   ]
  },
  {
   "cell_type": "markdown",
   "metadata": {},
   "source": [
    "8). Create a menu <br><br>\n",
    "1) Add Student <br>\n",
    "2) Remove Student <br>\n",
    "3) Add Marks <br>\n",
    "4) Search Student <br>\n",
    "5) Show All Students' Data <br>\n",
    "6) Exit <br>\n",
    "\n",
    "Your code should prompt the user to select one of the option and on selecting, the relative corresponding function/method should be called and desired functionality should be performed using loop, list, dictionary, conditional statements, string, functions. \n",
    "- Students' data should contain id, name, age and marks of three subjects (English, Mathematics and Science)\n",
    "- Make sure that all the students' data (except students' ID) should be taken as inputs from the user and not hard coded.\n",
    "- Students' ID should be incremented by 1 automatically on adding the data\n",
    "\n"
   ]
  },
  {
   "cell_type": "code",
   "execution_count": null,
   "metadata": {},
   "outputs": [],
   "source": [
    "# Your final data list should look somehow like this:\n",
    "\n",
    "# students = [\n",
    "#     {\n",
    "#         'id': 1,\n",
    "#         'name': 'Ali',\n",
    "#         'age': 12,\n",
    "#         'marks': [\n",
    "#             {'subject': 'English', 'scores': '84'},\n",
    "#             {'subject': 'Maths', 'scores': '70'},\n",
    "#             {'subject': 'Science', 'scores': '75'}\n",
    "#         ]\n",
    "#     },\n",
    "#     {\n",
    "#         'id': 2,\n",
    "#         'name': 'Hadi',\n",
    "#         'age': 11,\n",
    "#         'marks': [\n",
    "#             {'subject': 'English', 'scores': '84'},\n",
    "#             {'subject': 'Maths', 'scores': '70'},\n",
    "#             {'subject': 'Science', 'scores': '75'}\n",
    "#         ]\n",
    "#     }\n",
    "# ]\n"
   ]
  },
  {
   "cell_type": "code",
   "execution_count": 32,
   "metadata": {},
   "outputs": [
    {
     "name": "stdout",
     "output_type": "stream",
     "text": [
      "1) Add Student\n",
      "2) Remove Student\n",
      "3) Add Marks\n",
      "4) Search Student\n",
      "5) Show All Students' Data\n",
      "6) Exit\n",
      "\t\t\tInvalid Input!\n",
      "1) Add Student\n",
      "2) Remove Student\n",
      "3) Add Marks\n",
      "4) Search Student\n",
      "5) Show All Students' Data\n",
      "6) Exit\n",
      "\t\t\tInvalid Input!\n",
      "1) Add Student\n",
      "2) Remove Student\n",
      "3) Add Marks\n",
      "4) Search Student\n",
      "5) Show All Students' Data\n",
      "6) Exit\n"
     ]
    }
   ],
   "source": [
    "students = []\n",
    "\n",
    "def addStudent():\n",
    "    id = len(students) + 1\n",
    "    name = input('Enter Name: ')\n",
    "    age = int(input('Enter Age: '))\n",
    "    students.append({\n",
    "        'id': id,\n",
    "        'name': name,\n",
    "        'age': age,\n",
    "        'marks': []\n",
    "    })\n",
    "    print('\\t\\t\\tStudent Added Successfully!')\n",
    "\n",
    "def addMarks():\n",
    "    studentFound = False\n",
    "    id = int(input(\"Enter Student's ID: \"))\n",
    "    for student in students:\n",
    "        if student['id'] == id:\n",
    "            studentFound = True\n",
    "            english_scores = float(input('Enter Marks in English: '))\n",
    "            maths_scores = float(input('Enter Marks in Maths: '))\n",
    "            science_scores = float(input('Enter Marks in Science: '))\n",
    "            marks = [\n",
    "                {\n",
    "                    'subject': 'English',\n",
    "                    'scores': english_scores\n",
    "                },\n",
    "                {\n",
    "                    'subject': 'Mathematics',\n",
    "                    'scores': maths_scores\n",
    "                },\n",
    "                {\n",
    "                    'subject': 'Science',\n",
    "                    'scores': science_scores\n",
    "                }\n",
    "            ]\n",
    "            student['marks'] = marks\n",
    "            print('\\t\\t\\tMarks Added Successfully!')\n",
    "            break\n",
    "    if not studentFound:\n",
    "        print('\\t\\t\\tNo Record Found!')\n",
    "\n",
    "def searchStudent():\n",
    "    studentFound = False\n",
    "    id = int(input(\"Enter Student's ID: \"))\n",
    "    for student in students:\n",
    "        if student['id'] == id:\n",
    "            studentFound = True\n",
    "            print('***********************************')\n",
    "            print('ID: ', student['id'])\n",
    "            print('Name: ' + student['name'])\n",
    "            print('Age: ', student['age'])\n",
    "            if len(student['marks']) > 0:\n",
    "                print('Marks: ')\n",
    "                print('\\t\\t' + student['marks'][0]['subject'] + ': ', student['marks'][0]['scores'])\n",
    "                print('\\t\\t' + student['marks'][1]['subject'] + ': ', student['marks'][1]['scores'])\n",
    "                print('\\t\\t' + student['marks'][2]['subject'] + ': ', student['marks'][2]['scores'])\n",
    "            break\n",
    "    if not studentFound:\n",
    "        print('\\t\\t\\tNo Record Found!')\n",
    "\n",
    "def removeStudent():\n",
    "    studentFound = False\n",
    "    id = int(input(\"Enter Student's ID: \"))\n",
    "    del_index = -1\n",
    "    for student in students:\n",
    "        del_index += 1\n",
    "        if student['id'] == id:\n",
    "            studentFound = True\n",
    "            del students[del_index]\n",
    "            print(f\"Student with ID {id} has been removed successfully.\")\n",
    "            break\n",
    "    if not studentFound:\n",
    "        print('\\t\\t\\tNo Record Found!')\n",
    "\n",
    "    # Can also use enumerate for this:\n",
    "    # for index, student in enumerate(students):\n",
    "    #     if student['id'] == student_id:\n",
    "    #         del students[index]\n",
    "    #         print(f\"Student with ID {student_id} has been removed successfully.\")\n",
    "    #         return\n",
    "    # print(f\"No student found with ID {student_id}.\")\n",
    "\n",
    "def displayAllStudents():\n",
    "    if len(students) > 0:\n",
    "        for student in students:\n",
    "            print('***********************************')\n",
    "            print('ID: ', student['id'])\n",
    "            print('Name: ' + student['name'])\n",
    "            print('Age: ', student['age'])\n",
    "            if len(student['marks']) > 0:\n",
    "                print('Marks: ')\n",
    "                print('\\t\\t' + student['marks'][0]['subject'] + ': ', student['marks'][0]['scores'])\n",
    "                print('\\t\\t' + student['marks'][1]['subject'] + ': ', student['marks'][1]['scores'])\n",
    "                print('\\t\\t' + student['marks'][2]['subject'] + ': ', student['marks'][2]['scores'])\n",
    "    else:\n",
    "        print('\\t\\t\\tNo Record Found!')\n",
    "\n",
    "while True:\n",
    "    print('1) Add Student')\n",
    "    print('2) Remove Student')\n",
    "    print('3) Add Marks')\n",
    "    print('4) Search Student')\n",
    "    print(\"5) Show All Students' Data\")\n",
    "    print('6) Exit')\n",
    "    inp = input()\n",
    "    if inp == '6':\n",
    "        break\n",
    "    elif inp == '1':\n",
    "        addStudent()\n",
    "    elif inp == '2':\n",
    "        removeStudent()\n",
    "    elif inp == '3':\n",
    "        addMarks()\n",
    "    elif inp == '4':\n",
    "        searchStudent()\n",
    "    elif inp == '5':\n",
    "        displayAllStudents()\n",
    "    else:\n",
    "        print('\\t\\t\\tInvalid Input!')\n"
   ]
  },
  {
   "cell_type": "code",
   "execution_count": null,
   "metadata": {},
   "outputs": [],
   "source": []
  },
  {
   "cell_type": "code",
   "execution_count": null,
   "metadata": {},
   "outputs": [],
   "source": []
  }
 ],
 "metadata": {
  "kernelspec": {
   "display_name": "Python 3",
   "language": "python",
   "name": "python3"
  },
  "language_info": {
   "codemirror_mode": {
    "name": "ipython",
    "version": 3
   },
   "file_extension": ".py",
   "mimetype": "text/x-python",
   "name": "python",
   "nbconvert_exporter": "python",
   "pygments_lexer": "ipython3",
   "version": "3.11.9"
  }
 },
 "nbformat": 4,
 "nbformat_minor": 2
}
