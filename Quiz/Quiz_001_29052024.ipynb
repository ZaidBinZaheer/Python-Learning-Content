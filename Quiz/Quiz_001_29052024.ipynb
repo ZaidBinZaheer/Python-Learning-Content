{
 "cells": [
  {
   "cell_type": "markdown",
   "metadata": {},
   "source": [
    "## Quiz #0101 <br>\n",
    "###### (Python - Basics)"
   ]
  },
  {
   "cell_type": "markdown",
   "metadata": {},
   "source": [
    "#### Answer the following questions by providing Python code:"
   ]
  },
  {
   "cell_type": "markdown",
   "metadata": {},
   "source": [
    "1).  In the class A, students' heights are:\n",
    "\n",
    "161.5 <br>\n",
    "165.9 <br>\n",
    "168.7 <br>\n",
    "163.1 <br>\n",
    "170.8 <br>\n",
    "167.2 <br>\n",
    "\n",
    "Calculate the mean height."
   ]
  },
  {
   "cell_type": "code",
   "execution_count": null,
   "metadata": {},
   "outputs": [],
   "source": []
  },
  {
   "cell_type": "markdown",
   "metadata": {},
   "source": [
    "2).  In the class B, students' heights are:\n",
    "\n",
    "172.5 <br>\n",
    "162.9 <br>\n",
    "161.7 <br>\n",
    "160.1 <br>\n",
    "161.8 <br>\n",
    "169.2 <br>\n",
    "\n",
    "The class A and the class B are joined together to form the class AB. Calculate the mean height of class AB"
   ]
  },
  {
   "cell_type": "code",
   "execution_count": null,
   "metadata": {},
   "outputs": [],
   "source": []
  },
  {
   "cell_type": "markdown",
   "metadata": {},
   "source": [
    "3). Sort the heights of the class AB."
   ]
  },
  {
   "cell_type": "code",
   "execution_count": null,
   "metadata": {},
   "outputs": [],
   "source": []
  },
  {
   "cell_type": "markdown",
   "metadata": {},
   "source": [
    "4). The class C is formed with students with the height larger than 160 and less than 170. Make a list containing the heights of the class C."
   ]
  },
  {
   "cell_type": "code",
   "execution_count": null,
   "metadata": {},
   "outputs": [],
   "source": []
  },
  {
   "cell_type": "markdown",
   "metadata": {},
   "source": [
    "#### String Manipulation Problem: Palindrom"
   ]
  },
  {
   "cell_type": "markdown",
   "metadata": {},
   "source": [
    "5). A Palindrome is a string that reads the same forward and backward.<br>\n",
    "Your task is to take string as input from the user and your code identifies that wheather this string is a palindrome or not\n"
   ]
  },
  {
   "cell_type": "code",
   "execution_count": null,
   "metadata": {},
   "outputs": [],
   "source": []
  },
  {
   "cell_type": "markdown",
   "metadata": {},
   "source": [
    "#### Case Scenario"
   ]
  },
  {
   "cell_type": "markdown",
   "metadata": {},
   "source": [
    "6). Create a menu <br><br>\n",
    "1) Add Student <br>\n",
    "2) Remove Student <br>\n",
    "3) Add Marks <br>\n",
    "4) Search Student <br>\n",
    "5) Show All Students' Data <br>\n",
    "6) Exit <br>\n",
    "\n",
    "Your code should prompt the user to select one of the option and on selecting, the relative corresponding function/method should be called and desired functionality should be performed using loop, list, dictionary, conditional statements, string, functions. \n",
    "- Students' data should contain id, name, age and marks of three subjects (English, Mathematics and Science)\n",
    "- Make sure that all the students' data (except students' ID) should be taken as inputs from the user and not hard coded.\n",
    "- Students' ID should be incremented by 1 automatically on adding the data\n",
    "\n"
   ]
  },
  {
   "cell_type": "code",
   "execution_count": null,
   "metadata": {},
   "outputs": [],
   "source": [
    "# Your final data list should look somehow like this:\n",
    "\n",
    "# students = [\n",
    "#     {\n",
    "#         'id': 1,\n",
    "#         'name': 'Ali',\n",
    "#         'age': 12,\n",
    "#         'marks': [\n",
    "#             {'subject': 'English', 'scores': '84'},\n",
    "#             {'subject': 'Maths', 'scores': '70'},\n",
    "#             {'subject': 'Science', 'scores': '75'}\n",
    "#         ]\n",
    "#     },\n",
    "#     {\n",
    "#         'id': 2,\n",
    "#         'name': 'Hadi',\n",
    "#         'age': 11,\n",
    "#         'marks': [\n",
    "#             {'subject': 'English', 'scores': '84'},\n",
    "#             {'subject': 'Maths', 'scores': '70'},\n",
    "#             {'subject': 'Science', 'scores': '75'}\n",
    "#         ]\n",
    "#     }\n",
    "# ]\n"
   ]
  },
  {
   "cell_type": "code",
   "execution_count": null,
   "metadata": {},
   "outputs": [],
   "source": []
  }
 ],
 "metadata": {
  "kernelspec": {
   "display_name": "Python 3",
   "language": "python",
   "name": "python3"
  },
  "language_info": {
   "codemirror_mode": {
    "name": "ipython",
    "version": 3
   },
   "file_extension": ".py",
   "mimetype": "text/x-python",
   "name": "python",
   "nbconvert_exporter": "python",
   "pygments_lexer": "ipython3",
   "version": "3.11.9"
  }
 },
 "nbformat": 4,
 "nbformat_minor": 2
}
